{
 "cells": [
  {
   "cell_type": "code",
   "execution_count": 2,
   "id": "ee39e4f6-9b2b-4374-8d53-34bf8be42502",
   "metadata": {},
   "outputs": [
    {
     "name": "stdout",
     "output_type": "stream",
     "text": [
      "Requirement already satisfied: tk in c:\\users\\ducat\\anaconda3\\lib\\site-packages (0.1.0)\n",
      "Note: you may need to restart the kernel to use updated packages.\n"
     ]
    }
   ],
   "source": [
    "pip install tk"
   ]
  },
  {
   "cell_type": "code",
   "execution_count": null,
   "id": "4b683429-378e-4539-a499-1c3f6e98824f",
   "metadata": {},
   "outputs": [],
   "source": []
  },
  {
   "cell_type": "code",
   "execution_count": 43,
   "id": "e52a9135-63a0-421e-89ec-a77d09e16fcb",
   "metadata": {},
   "outputs": [],
   "source": [
    "from tkinter import *\n",
    "        \n",
    "win=Tk()\n",
    "win.title(\"Arithmetic Operation\")\n",
    "win.geometry('600x332+200+200')\n",
    "win.resizable(width=False, height=True)\n",
    "# win.resizable(width=False, height=False)\n",
    "l1=Label(win,text=\"Arithmetic operation\",font=(\"Arial\",30,'bold'))\n",
    "l1.place(x=120,y=10)\n",
    "l2=Label(win,text=\"Enter your 1st number :\",font=(\"Arial\",15,'bold'))\n",
    "l2.place(x=50,y=100)\n",
    "l3=Label(win,text=\"Enter your 2nd number :\",font=(\"Arial\",15,'bold'))\n",
    "l3.place(x=50,y=150)\n",
    "e1=Entry(win,text=\"Enter your 2nd number :\",font=(\"Arial\",15,'bold'))\n",
    "win.mainloop()"
   ]
  },
  {
   "cell_type": "code",
   "execution_count": 9,
   "id": "b8933b2c-bcf5-47f2-aa3d-c4e65a6b909d",
   "metadata": {},
   "outputs": [
    {
     "ename": "NameError",
     "evalue": "name 'Tk' is not defined",
     "output_type": "error",
     "traceback": [
      "\u001b[1;31m---------------------------------------------------------------------------\u001b[0m",
      "\u001b[1;31mNameError\u001b[0m                                 Traceback (most recent call last)",
      "Input \u001b[1;32mIn [9]\u001b[0m, in \u001b[0;36m<cell line: 1>\u001b[1;34m()\u001b[0m\n\u001b[1;32m----> 1\u001b[0m window\u001b[38;5;241m=\u001b[39m\u001b[43mTk\u001b[49m()\n",
      "\u001b[1;31mNameError\u001b[0m: name 'Tk' is not defined"
     ]
    }
   ],
   "source": [
    "title"
   ]
  },
  {
   "cell_type": "code",
   "execution_count": null,
   "id": "62ed4ffa-2471-4453-bb66-da3d4afd056c",
   "metadata": {},
   "outputs": [],
   "source": [
    "from tkinter import messagebox \n",
    "def sum(event):\n",
    "    a=int(e1.get())\n",
    "    b=int(e2.get())\n",
    "    messagebox.showinfo(\"Result\",str(a+b))\n",
    "\n",
    "def mul(event):\n",
    "    a=int(e1.get())\n",
    "    b=int(e2.get())\n",
    "    messagebox.showinfo(\"Result\",str(a*b))\n",
    "\n",
    "\n",
    "win=Tk()\n",
    "win.title(\"Arithmetice operations\")\n",
    "# win.resizable(width=False, height=False)\n",
    "win.geometry(\"800x400+200+200\")\n",
    "\n",
    "win.configure(bg=\"pink\")\n",
    "e1=Entry(win,font=(\"Arial\",15,'bold'), bd=10,bg=\"green\",fg=\"black\")\n",
    "e1.place(relx=0.5,rely=0.2)\n",
    "e2=Entry(win,font=(\"Arial\",15,'bold'), bd=10,bg=\"green\",fg=\"black\")\n",
    "e2.place(relx=0.5,rely=0.4)\n",
    "\n",
    "l1=Label(win,text=\"Enter your 1st number:\",font=(\"Arial\",15,'bold'), bd=10,bg=\"pink\",fg=\"black\" )\n",
    "l1.place(relx=0.1,rely=0.2)\n",
    "l2=Label(win,text=\"Enter  your 2nd number:\",font=(\"Arial\",15,'bold'), bd=10,bg=\"pink\",fg=\"black\") \n",
    "l2.place(relx=0.1,rely=0.4)\n",
    "l3=Label(win,text=\"Arithmetic Operations\",font=(\"Arial\",15,'bold'), bd=10,bg=\"pink\",fg=\"black\")\n",
    "l3.place(relx=0.3,rely=0.0)\n",
    "\n",
    "b1=Button(win,text=\"SUM\",font=(\"Arial\",15,'bold'), bd=10,bg=\"green\",fg=\"black\")\n",
    "b2=Button(win,text=\"MUL\",font=(\"Arial\",15,'bold'), bd=10,bg=\"green\",fg=\"black\")\n",
    "b1.place(relx=0.3,rely=0.6)\n",
    "\n",
    "b1.bind(\"<Button>\",sum)\n",
    "b2.bind(\"<Button>\",mul)\n",
    "\n",
    "b2.place(relx=0.6,rely=0.6)\n",
    "\n",
    "win.mainloop()"
   ]
  }
 ],
 "metadata": {
  "kernelspec": {
   "display_name": "Python 3 (ipykernel)",
   "language": "python",
   "name": "python3"
  },
  "language_info": {
   "codemirror_mode": {
    "name": "ipython",
    "version": 3
   },
   "file_extension": ".py",
   "mimetype": "text/x-python",
   "name": "python",
   "nbconvert_exporter": "python",
   "pygments_lexer": "ipython3",
   "version": "3.10.9"
  }
 },
 "nbformat": 4,
 "nbformat_minor": 5
}
