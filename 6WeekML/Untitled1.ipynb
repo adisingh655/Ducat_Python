{
 "cells": [
  {
   "cell_type": "code",
   "execution_count": 1,
   "id": "4f3a195e-8bc5-46c8-ad8c-4f7390ddb358",
   "metadata": {},
   "outputs": [],
   "source": [
    "import statistics as s"
   ]
  },
  {
   "cell_type": "code",
   "execution_count": 2,
   "id": "e73ab0b3-040a-4309-b28e-47befbe8117c",
   "metadata": {},
   "outputs": [
    {
     "data": {
      "text/plain": [
       "5"
      ]
     },
     "execution_count": 2,
     "metadata": {},
     "output_type": "execute_result"
    }
   ],
   "source": [
    "a=4\n",
    "b=6\n",
    "s.mean((a,b))"
   ]
  },
  {
   "cell_type": "code",
   "execution_count": 3,
   "id": "1bc24f74-8572-44cb-849e-924d24fb6d23",
   "metadata": {},
   "outputs": [
    {
     "data": {
      "text/plain": [
       "4.898979485566356"
      ]
     },
     "execution_count": 3,
     "metadata": {},
     "output_type": "execute_result"
    }
   ],
   "source": [
    "s.geometric_mean((a,b))"
   ]
  },
  {
   "cell_type": "code",
   "execution_count": 4,
   "id": "f0652b3c-4bc8-49e2-a96c-b92a8e808520",
   "metadata": {},
   "outputs": [
    {
     "data": {
      "text/plain": [
       "4.8"
      ]
     },
     "execution_count": 4,
     "metadata": {},
     "output_type": "execute_result"
    }
   ],
   "source": [
    "s.harmonic_mean((a,b))"
   ]
  },
  {
   "cell_type": "code",
   "execution_count": null,
   "id": "762f0ccc-b4a1-431f-9aff-82c7fe250a95",
   "metadata": {},
   "outputs": [],
   "source": []
  }
 ],
 "metadata": {
  "kernelspec": {
   "display_name": "Python 3 (ipykernel)",
   "language": "python",
   "name": "python3"
  },
  "language_info": {
   "codemirror_mode": {
    "name": "ipython",
    "version": 3
   },
   "file_extension": ".py",
   "mimetype": "text/x-python",
   "name": "python",
   "nbconvert_exporter": "python",
   "pygments_lexer": "ipython3",
   "version": "3.9.12"
  }
 },
 "nbformat": 4,
 "nbformat_minor": 5
}
