{
 "cells": [
  {
   "cell_type": "code",
   "execution_count": 2,
   "metadata": {},
   "outputs": [
    {
     "name": "stdout",
     "output_type": "stream",
     "text": [
      "welcome to Admin Page\n",
      "Out of service\n",
      "thankyou to banking with us\n"
     ]
    }
   ],
   "source": [
    "try:\n",
    "    print(\"welcome to Admin Page\")\n",
    "    a=input(\"Enter user name: \") #nnkrishna\n",
    "    if a!=\"nnkrishna\":\n",
    "        raise Exception(\"concatination of string is not possible\")\n",
    "\n",
    "except ZeroDivisionError as e :\n",
    "    print(\"Number not divisible by 0\",e)\n",
    "except TypeError as e:\n",
    "    print(\"String is not divisible by int\",e)\n",
    "except ValueError as e:\n",
    "    print(\"string is not convertible into int\",e)\n",
    "\n",
    "except Exception:\n",
    "    print(\"Out of service\")\n",
    "\n",
    "finally:\n",
    "    print(\"thankyou to banking with us\")\n"
   ]
  },
  {
   "cell_type": "code",
   "execution_count": 4,
   "metadata": {},
   "outputs": [
    {
     "name": "stdout",
     "output_type": "stream",
     "text": [
      "welcome to Admin Page\n",
      "Out of service\n",
      "thankyou to banking with us\n"
     ]
    }
   ],
   "source": [
    "try:\n",
    "    print(\"welcome to Admin Page\")\n",
    "    a=input(\"Enter user name: \") #nnkrishna,786nnkrishna\n",
    "    if a!=\"nnkrishna\":\n",
    "        raise Exception(\"concatination of string is not possible\")\n",
    "\n",
    "except ZeroDivisionError as e :\n",
    "    print(\"Number not divisible by 0\",e)\n",
    "except TypeError as e:\n",
    "    print(\"String is not divisible by int\",e)\n",
    "except ValueError as e:\n",
    "    print(\"string is not convertible into int\",e)\n",
    "\n",
    "except Exception:\n",
    "    print(\"Out of service\")\n",
    "\n",
    "finally:\n",
    "    print(\"thankyou to banking with us\")"
   ]
  },
  {
   "cell_type": "code",
   "execution_count": 17,
   "metadata": {},
   "outputs": [
    {
     "name": "stdout",
     "output_type": "stream",
     "text": [
      "welcome to Admin Page\n",
      "Out of service concatination of string is not possible\n",
      "thankyou to banking with us\n"
     ]
    }
   ],
   "source": [
    "try:\n",
    "    print(\"welcome to Admin Page\")\n",
    "    a=input(\"Enter user name: \") #nnkrishna,786nnkrishna\n",
    "    if (a!=\"nnkrishna\"):\n",
    "        raise Exception(\"concatination of string is not possible\")\n",
    "\n",
    "except ZeroDivisionError as e :\n",
    "    print(\"Number not divisible by 0\",e)\n",
    "except TypeError as e:\n",
    "    print(\"String is not divisible by int\",e)\n",
    "except ValueError as e:\n",
    "    print(\"string is not convertible into int\",e)\n",
    "\n",
    "except Exception as e:\n",
    "    print(\"Out of service\",e)\n",
    "\n",
    "finally:\n",
    "    print(\"thankyou to banking with us\")"
   ]
  },
  {
   "cell_type": "code",
   "execution_count": 18,
   "metadata": {},
   "outputs": [
    {
     "name": "stdout",
     "output_type": "stream",
     "text": [
      "welcome to Admin Page\n",
      "String is not divisible by int concatination of string is not possible\n",
      "thankyou to banking with us\n"
     ]
    }
   ],
   "source": [
    "try:\n",
    "    print(\"welcome to Admin Page\")\n",
    "    a=input(\"Enter user name: \") #nnkrishna,786nnkrishna\n",
    "    if (a!=\"nnkrishna\"):\n",
    "        raise TypeError(\"concatination of string is not possible\")\n",
    "\n",
    "except ZeroDivisionError as e :\n",
    "    print(\"Number not divisible by 0\",e)\n",
    "except TypeError as e:\n",
    "    print(\"String is not divisible by int\",e)\n",
    "except ValueError as e:\n",
    "    print(\"string is not convertible into int\",e)\n",
    "\n",
    "except Exception as e:\n",
    "    print(\"Out of service\",e)\n",
    "\n",
    "finally:\n",
    "    print(\"thankyou to banking with us\")"
   ]
  },
  {
   "cell_type": "code",
   "execution_count": null,
   "metadata": {},
   "outputs": [],
   "source": []
  }
 ],
 "metadata": {
  "kernelspec": {
   "display_name": "Python 3",
   "language": "python",
   "name": "python3"
  },
  "language_info": {
   "codemirror_mode": {
    "name": "ipython",
    "version": 3
   },
   "file_extension": ".py",
   "mimetype": "text/x-python",
   "name": "python",
   "nbconvert_exporter": "python",
   "pygments_lexer": "ipython3",
   "version": "3.11.2"
  },
  "orig_nbformat": 4
 },
 "nbformat": 4,
 "nbformat_minor": 2
}
