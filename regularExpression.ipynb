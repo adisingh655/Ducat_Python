{
 "cells": [
  {
   "cell_type": "code",
   "execution_count": 1,
   "metadata": {},
   "outputs": [],
   "source": [
    "a=\"This is krishna\""
   ]
  },
  {
   "cell_type": "code",
   "execution_count": 2,
   "metadata": {},
   "outputs": [],
   "source": [
    "import re"
   ]
  },
  {
   "cell_type": "code",
   "execution_count": 3,
   "metadata": {},
   "outputs": [
    {
     "data": {
      "text/plain": [
       "['is', 'is', 'is']"
      ]
     },
     "execution_count": 3,
     "metadata": {},
     "output_type": "execute_result"
    }
   ],
   "source": [
    "re.findall(\"is\",a)"
   ]
  },
  {
   "cell_type": "code",
   "execution_count": 20,
   "metadata": {},
   "outputs": [],
   "source": [
    "def repeter(arg,sample):\n",
    "    a=arg\n",
    "    cont = []\n",
    "    cont1=[]\n",
    "    length=len(sample)\n",
    "    for i in range(len(a)):\n",
    "        cont.append(a[i:length+i])\n",
    "    print(cont)\n",
    "    counter=1\n",
    "    for i in cont:\n",
    "        if i==sample:\n",
    "            cont1.append(sample)\n",
    "    return cont1"
   ]
  },
  {
   "cell_type": "code",
   "execution_count": 22,
   "metadata": {},
   "outputs": [
    {
     "name": "stdout",
     "output_type": "stream",
     "text": [
      "['this is', 'his is ', 'is is k', 's is kr', ' is kri', 'is kris', 's krish', ' krishn', 'krishna', 'rishna', 'ishna', 'shna', 'hna', 'na', 'a']\n"
     ]
    },
    {
     "data": {
      "text/plain": [
       "['krishna']"
      ]
     },
     "execution_count": 22,
     "metadata": {},
     "output_type": "execute_result"
    }
   ],
   "source": [
    "repeter(\"this is krishna\",\"krishna\")"
   ]
  },
  {
   "cell_type": "code",
   "execution_count": 25,
   "metadata": {},
   "outputs": [],
   "source": [
    "def repeter(arg,sample):\n",
    "    length=len(sample)\n",
    "    cont = [arg[i:length+i] for i in range(len(arg))]\n",
    "    print(cont)\n",
    "    cont1=[sample for i in cont if i==sample]\n",
    "    print(cont1)"
   ]
  },
  {
   "cell_type": "code",
   "execution_count": 26,
   "metadata": {},
   "outputs": [
    {
     "name": "stdout",
     "output_type": "stream",
     "text": [
      "['th', 'hi', 'is', 's ', ' i', 'is', 's ', ' k', 'kr', 'ri', 'is', 'sh', 'hn', 'na', 'a']\n",
      "['is', 'is', 'is']\n"
     ]
    }
   ],
   "source": [
    "repeter(\"this is krishna\",\"is\")"
   ]
  },
  {
   "cell_type": "code",
   "execution_count": null,
   "metadata": {},
   "outputs": [],
   "source": [
    "def repeter(arg,sample):\n",
    "    length=len(sample)\n",
    "    cont = [arg[i:length+i] for i in range(len(arg))]\n",
    "    print(cont)\n",
    "    cont1=[sample for i in cont if i==sample]\n",
    "    print(cont1)"
   ]
  }
 ],
 "metadata": {
  "kernelspec": {
   "display_name": "Python 3",
   "language": "python",
   "name": "python3"
  },
  "language_info": {
   "codemirror_mode": {
    "name": "ipython",
    "version": 3
   },
   "file_extension": ".py",
   "mimetype": "text/x-python",
   "name": "python",
   "nbconvert_exporter": "python",
   "pygments_lexer": "ipython3",
   "version": "3.11.2"
  },
  "orig_nbformat": 4
 },
 "nbformat": 4,
 "nbformat_minor": 2
}
