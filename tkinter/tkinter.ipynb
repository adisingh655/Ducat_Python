{
 "cells": [
  {
   "cell_type": "code",
   "execution_count": 2,
   "metadata": {},
   "outputs": [],
   "source": [
    "from tkinter import Tk\n",
    "from tkinter import *"
   ]
  },
  {
   "cell_type": "code",
   "execution_count": 3,
   "metadata": {},
   "outputs": [],
   "source": [
    "#to create a window using tkinter\n",
    "win=Tk()\n",
    "\n",
    "# all code should be mentioned inside it.\n",
    "\n",
    "win.mainloop()"
   ]
  },
  {
   "cell_type": "code",
   "execution_count": 3,
   "metadata": {},
   "outputs": [],
   "source": [
    "win=Tk()\n",
    "\n",
    "win.geometry(\"600x300+220+190\")\n",
    "l1=Label(win,text=\"Arithmetic Operation\",font=(\"Arial\",20,'bold'))\n",
    "l1.place(x=140,y=30)\n",
    "\n",
    "win.mainloop()"
   ]
  },
  {
   "cell_type": "code",
   "execution_count": 15,
   "metadata": {},
   "outputs": [],
   "source": [
    "win=Tk()\n",
    "\n",
    "win.geometry(\"600x300+220+190\")\n",
    "win.resizable(width=False,height=False)\n",
    "l1=Label(win,text=\"Arithmetic Operation\",font=(\"Arial\",20,'bold'))\n",
    "l1.place(x=140,y=30)\n",
    "l1=Label(win,text=\"Enter 1st number :\",font=(\"Arial\",15,'bold'))\n",
    "l1.place(x=50,y=80)\n",
    "l1=Label(win,text=\"Enter 2nd number :\",font=(\"Arial\",15,'bold'))\n",
    "l1.place(x=50,y=110)\n",
    "win.mainloop()"
   ]
  },
  {
   "cell_type": "code",
   "execution_count": 39,
   "metadata": {},
   "outputs": [],
   "source": [
    "win=Tk()\n",
    "win.title(\"Calculator\")\n",
    "win.geometry(\"600x300+220+190\")\n",
    "win.resizable(width=False,height=False)\n",
    "l1=Label(win,text=\"Arithmetic Operation\",font=(\"Arial\",20,'bold'))\n",
    "l1.place(x=140,y=30)\n",
    "l2=Label(win,text=\"Enter 1st number :\",font=(\"Arial\",15,'bold'))\n",
    "l2.place(x=50,y=80)\n",
    "l3=Label(win,text=\"Enter 2nd number :\",font=(\"Arial\",15,'bold'))\n",
    "l3.place(x=50,y=130)\n",
    "e1=Entry(win,font=(\"Arial\",10,'bold'),bg=\"#232ef4\",fg=\"white\",bd=\"10\")\n",
    "e1.place(x=350,y=80)\n",
    "e2=Entry(win,font=(\"Arial\",10,'bold'),bg=\"#232ef4\",fg=\"white\",bd=\"10\")\n",
    "e2.place(x=350,y=130)\n",
    "\n",
    "b1=Button(win,text=\"Sum\",font=(\"Arial\",10,'bold'),bg=\"#232ef4\",fg=\"white\",bd=\"10\")\n",
    "b1.place(x=50,y=200)\n",
    "b2=Button(win,text=\"Mul\",font=(\"Arial\",10,'bold'),bg=\"#232ef4\",fg=\"white\",bd=\"10\")\n",
    "b2.place(x=200,y=200)\n",
    "b3=Button(win,text=\"Div\",font=(\"Arial\",10,'bold'),bg=\"#232ef4\",fg=\"white\",bd=\"10\")\n",
    "b3.place(x=350,y=200)\n",
    "b4=Button(win,text=\"Sub\",font=(\"Arial\",10,'bold'),bg=\"#232ef4\",fg=\"white\",bd=\"10\")\n",
    "b4.place(x=500,y=200)\n",
    "\n",
    "win.mainloop()"
   ]
  },
  {
   "cell_type": "code",
   "execution_count": 53,
   "metadata": {},
   "outputs": [],
   "source": [
    "# relative x and relative y\n",
    "from tkinter import messagebox\n",
    "def Add(request):\n",
    "    a=eval(e1.get())\n",
    "    b=eval(e2.get())\n",
    "    messagebox.showinfo(\"Result\",str(a+b)) \n",
    "def Mul(request):\n",
    "    a=eval(e1.get())\n",
    "    b=eval(e2.get())\n",
    "    messagebox.showinfo(\"Result\",str(a*b)) \n",
    "\n",
    "def Div(request):\n",
    "    a=eval(e1.get())\n",
    "    b=eval(e2.get())\n",
    "    messagebox.showinfo(\"Result\",str(a/b)) \n",
    "    \n",
    "def Sub(request):\n",
    "    a=eval(e1.get())\n",
    "    b=eval(e2.get())\n",
    "    messagebox.showinfo(\"Result\",str(a-b)) \n",
    "win=Tk()\n",
    "win.title(\"Calculator\")\n",
    "win.geometry(\"600x300+220+190\")\n",
    "l1=Label(win,text=\"Arithmetic Operation\",font=(\"Arial\",20,'bold'))\n",
    "l1.place(relx=0.30,rely=0.1)\n",
    "l2=Label(win,text=\"Enter 1st number :\",font=(\"Arial\",15,'bold'))\n",
    "l2.place(relx=0.083,rely=0.26)\n",
    "l3=Label(win,text=\"Enter 2nd number :\",font=(\"Arial\",15,'bold'))\n",
    "l3.place(relx=0.083,rely=0.43)\n",
    "e1=Entry(win,font=(\"Arial\",10,'bold'),bg=\"#232ef4\",fg=\"white\",bd=\"10\")\n",
    "e1.place(relx=0.58,rely=0.26)\n",
    "e2=Entry(win,font=(\"Arial\",10,'bold'),bg=\"#232ef4\",fg=\"white\",bd=\"10\")\n",
    "e2.place(relx=0.58,rely=0.43)\n",
    "\n",
    "b1=Button(win,text=\"Sum\",font=(\"Arial\",10,'bold'),bg=\"#232ef4\",fg=\"white\",bd=\"10\")\n",
    "b1.place(relx=0.08,rely=0.66)\n",
    "b2=Button(win,text=\"Mul\",font=(\"Arial\",10,'bold'),bg=\"#232ef4\",fg=\"white\",bd=\"10\")\n",
    "b2.place(relx=0.33,rely=0.66)\n",
    "b3=Button(win,text=\"Div\",font=(\"Arial\",10,'bold'),bg=\"#232ef4\",fg=\"white\",bd=\"10\")\n",
    "b3.place(relx=0.58,rely=0.66)\n",
    "b4=Button(win,text=\"Sub\",font=(\"Arial\",10,'bold'),bg=\"#232ef4\",fg=\"white\",bd=\"10\")\n",
    "b4.place(relx=0.83,rely=0.66)\n",
    "\n",
    "b1.bind(\"<Button>\",Add)\n",
    "b2.bind(\"<Button>\",Mul)\n",
    "b3.bind(\"<Button>\",Div)\n",
    "b4.bind(\"<Button>\",Sub)\n",
    "win.mainloop()"
   ]
  },
  {
   "cell_type": "code",
   "execution_count": null,
   "metadata": {},
   "outputs": [],
   "source": []
  }
 ],
 "metadata": {
  "kernelspec": {
   "display_name": "Python 3",
   "language": "python",
   "name": "python3"
  },
  "language_info": {
   "codemirror_mode": {
    "name": "ipython",
    "version": 3
   },
   "file_extension": ".py",
   "mimetype": "text/x-python",
   "name": "python",
   "nbconvert_exporter": "python",
   "pygments_lexer": "ipython3",
   "version": "3.11.2"
  },
  "orig_nbformat": 4
 },
 "nbformat": 4,
 "nbformat_minor": 2
}
